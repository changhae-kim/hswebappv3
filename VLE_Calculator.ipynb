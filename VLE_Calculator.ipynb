{
  "nbformat": 4,
  "nbformat_minor": 0,
  "metadata": {
    "colab": {
      "provenance": [],
      "toc_visible": true,
      "mount_file_id": "1091efpqUTF13O8IbtcvMxGbjETALG3b5",
      "authorship_tag": "ABX9TyOia1dgSeMPzbM+wiE9ihW0",
      "include_colab_link": true
    },
    "kernelspec": {
      "name": "python3",
      "display_name": "Python 3"
    },
    "language_info": {
      "name": "python"
    }
  },
  "cells": [
    {
      "cell_type": "markdown",
      "metadata": {
        "id": "view-in-github",
        "colab_type": "text"
      },
      "source": [
        "<a href=\"https://colab.research.google.com/github/changhae-kim/hswebappv3/blob/main/VLE_Calculator.ipynb\" target=\"_parent\"><img src=\"https://colab.research.google.com/assets/colab-badge.svg\" alt=\"Open In Colab\"/></a>"
      ]
    },
    {
      "cell_type": "markdown",
      "source": [
        "# Introduction"
      ],
      "metadata": {
        "id": "vdfeeIaMqfIo"
      }
    },
    {
      "cell_type": "markdown",
      "source": [
        "This calculator uses Henry's Law to relate gas-phase and liquid-phase fractions in a polyethylene melt for several different reactor variables and reactor types. Use the sidebar to jump between sections. The code within this section must be executed in order for these sections to function."
      ],
      "metadata": {
        "id": "Y9XZxLjkrH7O"
      }
    },
    {
      "cell_type": "code",
      "execution_count": null,
      "metadata": {
        "id": "tL8zPpW7SFQ_"
      },
      "outputs": [],
      "source": [
        "from google.colab import files"
      ]
    },
    {
      "cell_type": "code",
      "source": [
        "!cp drive/MyDrive/Colab\\ Notebooks/calculator.py .\n",
        "import calculator"
      ],
      "metadata": {
        "id": "qOnWs-QvTaan"
      },
      "execution_count": null,
      "outputs": []
    },
    {
      "cell_type": "markdown",
      "source": [
        "# Simple Examples"
      ],
      "metadata": {
        "id": "5s47qfcHsQyU"
      }
    },
    {
      "cell_type": "code",
      "source": [],
      "metadata": {
        "id": "C2LgvfiNsWi1"
      },
      "execution_count": null,
      "outputs": []
    }
  ]
}